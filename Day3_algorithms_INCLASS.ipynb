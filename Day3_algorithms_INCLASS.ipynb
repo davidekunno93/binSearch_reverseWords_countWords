{
 "cells": [
  {
   "cell_type": "markdown",
   "metadata": {},
   "source": [
    "# Algorithms, Binary Search & Sorting"
   ]
  },
  {
   "cell_type": "markdown",
   "metadata": {},
   "source": [
    "## Tasks Today:\n",
    " \n",
    "1) <b>In-Place Algorithms</b> <br>\n",
    " &nbsp;&nbsp;&nbsp;&nbsp; a) Syntax <br>\n",
    " &nbsp;&nbsp;&nbsp;&nbsp; a) Out of Place Algorithm <br>\n",
    " &nbsp;&nbsp;&nbsp;&nbsp; b) In-Class Exercise #1 <br>\n",
    "2) <b>Two Pointers</b> <br>\n",
    "3) <b>Sorting Algos</b> <br>\n",
    " &nbsp;&nbsp;&nbsp;&nbsp; a) Video on Algorithms <br>\n",
    " &nbsp;&nbsp;&nbsp;&nbsp; b) How it Works <br>\n",
    "4) <b>Exercises</b> <br>\n",
    " &nbsp;&nbsp;&nbsp;&nbsp; a) Exercise #1 - Reverse a List in Place Using an In-Place Algorithm <br>\n",
    " &nbsp;&nbsp;&nbsp;&nbsp; b) Exercise #2 - Find Distinct Words <br>\n",
    " &nbsp;&nbsp;&nbsp;&nbsp; c) Exercise #3 - Write a program to implement a Linear Search Algorithm. <br>"
   ]
  },
  {
   "cell_type": "markdown",
   "metadata": {},
   "source": [
    "## In-Place Algorithms"
   ]
  },
  {
   "cell_type": "markdown",
   "metadata": {},
   "source": [
    "#### Syntax"
   ]
  },
  {
   "cell_type": "code",
   "execution_count": 5,
   "metadata": {},
   "outputs": [
    {
     "name": "stdout",
     "output_type": "stream",
     "text": [
      "[4, 2, 3, 1]\n",
      "[4, 2, 3, 1]\n"
     ]
    }
   ],
   "source": [
    "# swap algo\n",
    "#           0 1 2 3\n",
    "num_list = [1,2,3,4]\n",
    "# num_list[0], num_list[1] = num_list[1], num_list[0]\n",
    "num_list2 = [1,2,3,4]\n",
    "\n",
    "def swappy(li, x, y):\n",
    "    tempx = li[x]\n",
    "    tempy = li[y]\n",
    "    li[x] = tempy\n",
    "    li[y] = tempx\n",
    "    return li\n",
    "    \n",
    "def swappy3000(li, x, y):\n",
    "    li[x], li[y] = li[y], li[x]\n",
    "    return li\n",
    "    \n",
    "    \n",
    "\n",
    "print(swappy(num_list, 0, 3))\n",
    "print(swappy3000(num_list2, 0, 3))"
   ]
  },
  {
   "cell_type": "markdown",
   "metadata": {},
   "source": [
    "#### Out of Place Algorithm"
   ]
  },
  {
   "cell_type": "code",
   "execution_count": null,
   "metadata": {},
   "outputs": [],
   "source": [
    "def o_swappie(li, x, y):\n",
    "    copy = li[:]\n"
   ]
  },
  {
   "cell_type": "markdown",
   "metadata": {},
   "source": [
    "#### In-Class Exercise #1 <br>\n",
    "<p>Write a function that takes in four arguments (list, index1, index2, index3), and swaps those three positions in the list passed in.</p>"
   ]
  },
  {
   "cell_type": "code",
   "execution_count": 9,
   "metadata": {},
   "outputs": [
    {
     "name": "stdout",
     "output_type": "stream",
     "text": [
      "[3, 10, 4, 8, 4, 2, 6]\n",
      "[10, 4, 3, 8, 4, 2, 6]\n"
     ]
    }
   ],
   "source": [
    "l_1 = [10, 4, 3, 8, 4, 2, 6]\n",
    "\n",
    "def swaps3000(li, a, b, c):\n",
    "    li = li[:]\n",
    "    li[a], li[b], li[c] = li[c], li[a], li[b]\n",
    "    return li\n",
    "\n",
    "print(swaps3000(l_1, 0, 1, 2))\n"
   ]
  },
  {
   "cell_type": "markdown",
   "metadata": {},
   "source": [
    "## Two Pointers"
   ]
  },
  {
   "cell_type": "markdown",
   "metadata": {},
   "source": [
    "#### Syntax"
   ]
  },
  {
   "cell_type": "code",
   "execution_count": 25,
   "metadata": {},
   "outputs": [
    {
     "name": "stdout",
     "output_type": "stream",
     "text": [
      "[6, 5, 4, 3, 2, 1]\n",
      "[6, 5, 4, 3, 2, 1]\n",
      "left = 0 and right = 5\n",
      "left = 1 and right = 4\n",
      "left = 2 and right = 3\n",
      "[6, 5, 4, 3, 2, 1]\n"
     ]
    }
   ],
   "source": [
    "lst = [1, 2, 3, 4, 5, 6]\n",
    "lst.reverse()\n",
    "print(lst)\n",
    "\n",
    "lst = [1, 2, 3, 4, 5, 6]\n",
    "print(lst[::-1])\n",
    "\n",
    "def twoPointer(a_list):\n",
    "    left = 0\n",
    "    right = len(a_list) - 1\n",
    "    while left < right:\n",
    "        print(f\"left = {left} and right = {right}\")\n",
    "        a_list[left], a_list[right] = a_list[right], a_list[left]\n",
    "        left += 1\n",
    "        right -= 1\n",
    "    return a_list\n",
    "              \n",
    "print(twoPointer(lst))"
   ]
  },
  {
   "cell_type": "markdown",
   "metadata": {},
   "source": [
    "#### Algorithm videos and visualization helpers <br>\n",
    "<p>Watch the videos about algorithms.</p>\n",
    "\n",
    "https://www.youtube.com/watch?v=Q9HjeFD62Uk\n",
    "\n",
    "https://www.youtube.com/watch?v=kPRA0W1kECg\n",
    "\n",
    "https://www.youtube.com/watch?v=ZZuD6iUe3Pc\n",
    "\n",
    "<p>Check out resources:</p>\n",
    "\n",
    "https://www.hackerearth.com/practice/algorithms/sorting/bubble-sort/visualize/\n",
    "\n",
    "https://www.bigocheatsheet.com/"
   ]
  },
  {
   "cell_type": "markdown",
   "metadata": {},
   "source": [
    "# Sorting Algorithms"
   ]
  },
  {
   "cell_type": "markdown",
   "metadata": {},
   "source": [
    "#### Bubble Sort\n",
    "\n",
    "Worst Case: O(n^2) Time - O(1) Space"
   ]
  },
  {
   "cell_type": "code",
   "execution_count": 32,
   "metadata": {},
   "outputs": [
    {
     "name": "stdout",
     "output_type": "stream",
     "text": [
      "count = 0\n",
      "j = 0\n",
      "j = 1\n",
      "j = 2\n",
      "j = 3\n",
      "count = 1\n",
      "j = 0\n",
      "j = 1\n",
      "j = 2\n",
      "j = 3\n",
      "count = 2\n",
      "j = 0\n",
      "j = 1\n",
      "j = 2\n",
      "j = 3\n",
      "count = 3\n",
      "j = 0\n",
      "j = 1\n",
      "j = 2\n",
      "j = 3\n",
      "count = 4\n",
      "j = 0\n",
      "j = 1\n",
      "j = 2\n",
      "j = 3\n",
      "[1, 23, 24, 64, 321]\n",
      "[26, 33, 43, 53, 243]\n"
     ]
    }
   ],
   "source": [
    "def swap(li, x, y):\n",
    "    li[x], li[y] = li[y], li[x]\n",
    "\n",
    "def bubbleSort(arr):\n",
    "    count = 0\n",
    "    for i in range(len(arr)):\n",
    "        print(f\"count = {count}\")\n",
    "        for j in range(len(arr)-1):\n",
    "            print(f\"j = {j}\")\n",
    "            if arr[j] > arr[j+1]:\n",
    "                swap(arr, j, j+1)\n",
    "        count += 1\n",
    "    return arr\n",
    "        \n",
    "def bubb_enhance(arr):\n",
    "    isSorted = False\n",
    "    while not isSorted:\n",
    "        isSorted = True\n",
    "        for i in range(len(arr)-1): #error here\n",
    "            if arr[i] > arr[i+1]:\n",
    "                swap(arr, i, i+1)\n",
    "                isSorted = False\n",
    "    return arr\n",
    "\n",
    "li_1 = [23, 321, 24, 1, 64]\n",
    "li_2 = [33, 43, 243, 53, 26]    \n",
    "\n",
    "print(bubbleSort(li_1))\n",
    "print(bubb_enhance(li_2))"
   ]
  },
  {
   "cell_type": "markdown",
   "metadata": {},
   "source": [
    "##### Insertion Sort\n",
    "\n",
    "Worst Case: O(n^2) time - O(1)space"
   ]
  },
  {
   "cell_type": "code",
   "execution_count": null,
   "metadata": {},
   "outputs": [],
   "source": [
    "def inSort(arr):\n",
    "    for i in range(len(arr)):\n",
    "        j = 1\n",
    "        while j > 0 and arr[j] < arr[j-1]:\n",
    "            swap(arr, j, j-1)\n",
    "            j -= 1\n",
    "    return arr"
   ]
  },
  {
   "cell_type": "markdown",
   "metadata": {},
   "source": [
    "## Merge Sort"
   ]
  },
  {
   "cell_type": "markdown",
   "metadata": {},
   "source": [
    "#### How it Works"
   ]
  },
  {
   "cell_type": "code",
   "execution_count": null,
   "metadata": {},
   "outputs": [],
   "source": [
    "# 3 pointers ---> right, left, main\n",
    "# splitting behavior causes logarithmic time complexity\n",
    "\n",
    "# 4 steps!\n",
    "# 1) Split everything until can't split anymore\n",
    "# 2) from left to right, start merging groups \n",
    "# 3) while merging, we must put numbers in the right place\n",
    "# 4) repeat until done\n",
    "\n",
    "def mergeSort(a_list):\n",
    "    \n",
    "    print(f\"Splitting, splitting, splitting...\", a_list)\n",
    "# Step 1: split the lists til you can't split no more\n",
    "    if len(a_list) > 1:\n",
    "        mid = len(a_list) // 2\n",
    "        lefthalf = a_list[:mid]\n",
    "        righthalf = a_list[mid:]\n",
    "        \n",
    "        # recursive call\n",
    "        mergeSort(lefthalf)\n",
    "        mergeSort(righthalf)\n",
    "        \n",
    "        # make the pointers\n",
    "        i, j, k = 0, 0, 0\n",
    "        \n",
    "        print(f\"Merging {a_list}\")\n",
    "        \n",
    "#Step 2: compare!\n",
    "        while i < len(lefthalf) and j < len(righthalf):\n",
    "            if lefthalf[i] < righthalf[j]:\n",
    "                a_list[k] = lefthalf[i]\n",
    "                i += 1\n",
    "            else:\n",
    "                a_list[k] = righthalf[j]\n",
    "                j += 1\n",
    "            k += 1\n",
    "            \n",
    "#Step 3: placement matters!\n",
    "        while i < len(lefthalf):\n",
    "            a_list[k] = lefthalf[i]\n",
    "            i += 1\n",
    "            k += 1\n",
    "            \n",
    "        while j < len(righthalf):\n",
    "            a_list[k] = righthalf[j]\n",
    "            j += 1\n",
    "            k += 1\n",
    "            \n",
    "        print(f\"List has been merged: {a_list}\")\n",
    "        "
   ]
  },
  {
   "cell_type": "markdown",
   "metadata": {},
   "source": [
    "# Binary Search\n",
    "\n",
    "The Binary Search algorithm works by finding the number in the middle of a given array and comparing it to the target. Given that the array is sorted\n",
    "\n",
    "* The worst case run time for this algorithm is `O(log(n))`"
   ]
  },
  {
   "cell_type": "code",
   "execution_count": 35,
   "metadata": {},
   "outputs": [
    {
     "data": {
      "text/plain": [
       "'Match found at index 1 = 23, by evaluating between index 0 and index 3'"
      ]
     },
     "execution_count": 35,
     "metadata": {},
     "output_type": "execute_result"
    }
   ],
   "source": [
    "liist = [1,23,53,67,89,125,153,198,241,250]\n",
    "\n",
    "def binSearch(a_list, target):\n",
    "    left = 0\n",
    "    right = len(a_list) -1\n",
    "    while left <= right:\n",
    "        mid = (left + right) // 2\n",
    "        potentialMatch = a_list[mid]\n",
    "        if target == potentialMatch:\n",
    "            return f\"Match found at index {mid} = {a_list[mid]}, by evaluating between index {left} and index {right}\"\n",
    "        elif target < potentialMatch:\n",
    "            right = mid - 1\n",
    "        elif target > potentialMatch:\n",
    "            left = mid + 1\n",
    "    return f\"your target isn't in the list!\"\n",
    "\n",
    "binSearch(liist, 23)"
   ]
  },
  {
   "cell_type": "markdown",
   "metadata": {},
   "source": [
    "# Exercises"
   ]
  },
  {
   "cell_type": "markdown",
   "metadata": {},
   "source": [
    "### Exercise #1 <br>\n",
    "<p>Reverse the list below in-place using an in-place algorithm.<br>For extra credit: Reverse the strings at the same time.</p>"
   ]
  },
  {
   "cell_type": "code",
   "execution_count": 47,
   "metadata": {},
   "outputs": [
    {
     "name": "stdout",
     "output_type": "stream",
     "text": [
      "['.', 'ecnetnes', 'a', 'si', 'siht']\n",
      "['.', 'ecnetnes', 'a', 'si', 'siht']\n"
     ]
    }
   ],
   "source": [
    "words = ['this' , 'is', 'a', 'sentence', '.']\n",
    "# output --> reverse string and reverse words\n",
    "\n",
    "def revster(li):\n",
    "    # reverse the list of strings\n",
    "    li.reverse()\n",
    "    # loop thru each word in the list of string\n",
    "    result = []\n",
    "    i = 0\n",
    "    for word in li:\n",
    "    # reverse each word in list using index counter\n",
    "        li[i] = word[::-1]\n",
    "        i += 1\n",
    "    return li\n",
    "\n",
    "print(revster(words))\n",
    "print(words)\n"
   ]
  },
  {
   "cell_type": "markdown",
   "metadata": {},
   "source": [
    "### Exercise #2 <br>\n",
    "<p>Create a function that counts how many distinct words are in the string below, then outputs a dictionary with the words as the key and the value as the amount of times that word appears in the string.<br>Should output:<br>{'a': 5,<br>\n",
    " 'abstract': 1,<br>\n",
    " 'an': 3,<br>\n",
    " 'array': 2, ... etc...</p>"
   ]
  },
  {
   "cell_type": "code",
   "execution_count": 57,
   "metadata": {},
   "outputs": [
    {
     "name": "stdout",
     "output_type": "stream",
     "text": [
      "{'In': 1, 'computing': 1, 'a': 4, 'hash': 4, 'table': 2, 'map': 2, 'is': 1, 'data': 2, 'structure': 2, 'which': 2, 'implements': 1, 'an': 3, 'associative': 1, 'array': 2, 'abstract': 1, 'type': 1, 'that': 1, 'can': 2, 'keys': 1, 'to': 2, 'values': 1, 'A': 1, 'uses': 1, 'function': 1, 'compute': 1, 'index': 1, 'into': 1, 'of': 1, 'buckets': 1, 'or': 1, 'slots': 1, 'from': 1, 'the': 1, 'desired': 1, 'value': 1, 'be': 1, 'found': 1}\n"
     ]
    }
   ],
   "source": [
    "a_text = 'In computing, a hash table hash map is a data structure which implements an associative array abstract data type, a structure that can map keys to values. A hash table uses a hash function to compute an index into an array of buckets or slots from which the desired value can be found'\n",
    "\n",
    "def word_counter(string):\n",
    "    dict = {}\n",
    "    # remove punctuation \n",
    "    string = string.replace(\",\",\"\").replace(\".\",\"\")\n",
    "    # separate string into individual words\n",
    "    split_string = string.split()\n",
    "    # loop through split_string and check count of each word in the full string\n",
    "    for word in split_string:\n",
    "        # pair the word with its count and add to dictionary\n",
    "        dict[word] = split_string.count(word)\n",
    "    return dict\n",
    "    \n",
    "print(word_counter(a_text))"
   ]
  },
  {
   "cell_type": "markdown",
   "metadata": {},
   "source": [
    "## Exercise #3\n",
    "\n",
    "Write a program to implement a Linear Search Algorithm. Also in a comment, write the Time Complexity of the following algorithm.\n",
    "\n",
    "#### Hint: Linear Searching will require searching a list for a given number. "
   ]
  },
  {
   "cell_type": "code",
   "execution_count": null,
   "metadata": {},
   "outputs": [
    {
     "name": "stdout",
     "output_type": "stream",
     "text": [
      "BinarySearch will Guess your number...\n",
      "\n",
      "\tYou will choose a number from a lower limit of: 1\n",
      "\tTo an upper limit of: 100\n",
      "\tNow enter a number between 1 ~ 100: 31\n",
      "I have disappeared your number from my memory, and I will find it again using BinarySearch\n",
      "\n",
      "Is your number 50? (y/n) n\n",
      "Is your number higher? Or lower? (h/l) l\n",
      "l,r = 0 48\n",
      "\n",
      "Is your number 25? (y/n) n\n",
      "Is your number higher? Or lower? (h/l) h\n",
      "l,r = 25 48\n",
      "\n",
      "Is your number 37? (y/n) kl\n",
      "Enter valid input\n",
      "\n",
      "Is your number 37? (y/n) n\n",
      "Is your number higher? Or lower? (h/l) l\n",
      "l,r = 25 35\n",
      "\n",
      "Is your number 31? (y/n) y\n",
      "Great. That was easy! BinarySearch FTW!\n"
     ]
    }
   ],
   "source": [
    "# O(log(n)) time complexity I believe\n",
    "\n",
    "print(\"BinarySearch will Guess your number...\\n\")\n",
    "\n",
    "\n",
    "lower_limit = int(input(\"\\tYou will choose a number from a lower limit of: \"))\n",
    "upper_limit = int(input(\"\\tTo an upper limit of: \"))\n",
    "\n",
    "\n",
    "if upper_limit < lower_limit:\n",
    "    upper_limit, lower_limit = lower_limit, upper_limit\n",
    "\n",
    "# capture user number to guess\n",
    "num = input(f\"\\tNow enter a number between {lower_limit} ~ {upper_limit}: \")\n",
    "print(\"I have disappeared your number from my memory, and I will find it again using BinarySearch\")\n",
    "\n",
    "# use two pointers to index the start and end of number set\n",
    "left = 0 \n",
    "right = upper_limit - lower_limit\n",
    "\n",
    "# capture number set in a list\n",
    "lst = list(range(lower_limit, upper_limit+1))\n",
    "\n",
    "while True:\n",
    "    # find half way index of list (between left[start] and right[end] pointers)\n",
    "    mid = (left + right) // 2\n",
    "    \n",
    "    guess = input(f\"\\nIs your number {lst[mid]}? (y/n) \")\n",
    "\n",
    "    # if yes end game, if no - ask if number is above or below guess\n",
    "    if guess == 'y':\n",
    "        print(\"Great. That was easy! All hail BinarySearch!\")\n",
    "    elif guess == 'n':\n",
    "        if left == right:\n",
    "            print(f\"You're lying - {lst[mid]} is your number\")\n",
    "            break\n",
    "        else:\n",
    "            while True:\n",
    "                high_low = input(\"Is your number higher? Or lower? (h/l) \")\n",
    "                if high_low == 'h':\n",
    "                    left = mid + 1\n",
    "                    print(\"l,r =\", left, right)\n",
    "                    break\n",
    "                elif high_low == 'l':\n",
    "                    right = mid - 1\n",
    "                    print(\"l,r =\", left, right)\n",
    "                    break\n",
    "                else:\n",
    "                    print(\"Enter valid input\")\n",
    "    else:\n",
    "        print(\"Enter valid input\")\n"
   ]
  },
  {
   "cell_type": "code",
   "execution_count": null,
   "metadata": {},
   "outputs": [],
   "source": []
  },
  {
   "cell_type": "code",
   "execution_count": null,
   "metadata": {},
   "outputs": [],
   "source": []
  }
 ],
 "metadata": {
  "kernelspec": {
   "display_name": "Python 3 (ipykernel)",
   "language": "python",
   "name": "python3"
  },
  "language_info": {
   "codemirror_mode": {
    "name": "ipython",
    "version": 3
   },
   "file_extension": ".py",
   "mimetype": "text/x-python",
   "name": "python",
   "nbconvert_exporter": "python",
   "pygments_lexer": "ipython3",
   "version": "3.10.9"
  }
 },
 "nbformat": 4,
 "nbformat_minor": 2
}
